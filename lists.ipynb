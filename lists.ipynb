{
 "cells": [
  {
   "cell_type": "markdown",
   "id": "81a4ceb6",
   "metadata": {},
   "source": [
    "### Create a List"
   ]
  },
  {
   "cell_type": "code",
   "execution_count": 1,
   "id": "f8832425",
   "metadata": {},
   "outputs": [],
   "source": [
    "li = []"
   ]
  },
  {
   "cell_type": "code",
   "execution_count": 2,
   "id": "0d50c25f",
   "metadata": {},
   "outputs": [],
   "source": [
    "li = [1, 2, 3]"
   ]
  },
  {
   "cell_type": "code",
   "execution_count": 3,
   "id": "5d9c5f06",
   "metadata": {},
   "outputs": [
    {
     "data": {
      "text/plain": [
       "list"
      ]
     },
     "execution_count": 3,
     "metadata": {},
     "output_type": "execute_result"
    }
   ],
   "source": [
    "type(li)"
   ]
  },
  {
   "cell_type": "code",
   "execution_count": 4,
   "id": "9e0781a4",
   "metadata": {},
   "outputs": [],
   "source": [
    "li = [1, 2,]"
   ]
  },
  {
   "cell_type": "code",
   "execution_count": 5,
   "id": "bb255a23",
   "metadata": {},
   "outputs": [],
   "source": [
    "li = [1, 2, \"Parikh\", 3.4]"
   ]
  },
  {
   "cell_type": "code",
   "execution_count": 6,
   "id": "157684d8",
   "metadata": {},
   "outputs": [
    {
     "data": {
      "text/plain": [
       "[1, 2, 'Parikh', 3.4]"
      ]
     },
     "execution_count": 6,
     "metadata": {},
     "output_type": "execute_result"
    }
   ],
   "source": [
    "li"
   ]
  },
  {
   "cell_type": "markdown",
   "id": "96cb3653",
   "metadata": {},
   "source": [
    "### Access and Change Elements"
   ]
  },
  {
   "cell_type": "code",
   "execution_count": 7,
   "id": "236cdb39",
   "metadata": {},
   "outputs": [
    {
     "data": {
      "text/plain": [
       "1"
      ]
     },
     "execution_count": 7,
     "metadata": {},
     "output_type": "execute_result"
    }
   ],
   "source": [
    "li[0]"
   ]
  },
  {
   "cell_type": "code",
   "execution_count": 8,
   "id": "557f5134",
   "metadata": {},
   "outputs": [
    {
     "data": {
      "text/plain": [
       "'Parikh'"
      ]
     },
     "execution_count": 8,
     "metadata": {},
     "output_type": "execute_result"
    }
   ],
   "source": [
    "li[2]"
   ]
  },
  {
   "cell_type": "code",
   "execution_count": 9,
   "id": "2692a752",
   "metadata": {},
   "outputs": [
    {
     "data": {
      "text/plain": [
       "3.4"
      ]
     },
     "execution_count": 9,
     "metadata": {},
     "output_type": "execute_result"
    }
   ],
   "source": [
    "li[3]"
   ]
  },
  {
   "cell_type": "code",
   "execution_count": 10,
   "id": "36ce7558",
   "metadata": {},
   "outputs": [],
   "source": [
    "# IndexError: list index out of range\n",
    "# li[4]"
   ]
  },
  {
   "cell_type": "code",
   "execution_count": 11,
   "id": "4728f82b",
   "metadata": {},
   "outputs": [],
   "source": [
    "li[0] = 5"
   ]
  },
  {
   "cell_type": "code",
   "execution_count": 12,
   "id": "6ea06a12",
   "metadata": {},
   "outputs": [
    {
     "data": {
      "text/plain": [
       "[5, 2, 'Parikh', 3.4]"
      ]
     },
     "execution_count": 12,
     "metadata": {},
     "output_type": "execute_result"
    }
   ],
   "source": [
    "li"
   ]
  },
  {
   "cell_type": "code",
   "execution_count": 13,
   "id": "5ec273d3",
   "metadata": {},
   "outputs": [],
   "source": [
    "li[3] = \"Rohan\""
   ]
  },
  {
   "cell_type": "code",
   "execution_count": 14,
   "id": "4111d009",
   "metadata": {},
   "outputs": [
    {
     "data": {
      "text/plain": [
       "[5, 2, 'Parikh', 'Rohan']"
      ]
     },
     "execution_count": 14,
     "metadata": {},
     "output_type": "execute_result"
    }
   ],
   "source": [
    "li"
   ]
  },
  {
   "cell_type": "code",
   "execution_count": 16,
   "id": "d8f683a0",
   "metadata": {},
   "outputs": [],
   "source": [
    "# IndexError: list assignment index out of range\n",
    "# li[4] = 9"
   ]
  },
  {
   "cell_type": "markdown",
   "id": "8a0eebaf",
   "metadata": {},
   "source": [
    "### Slicing"
   ]
  },
  {
   "cell_type": "code",
   "execution_count": null,
   "id": "9ad788a9",
   "metadata": {},
   "outputs": [],
   "source": [
    "li[1:3]"
   ]
  },
  {
   "cell_type": "code",
   "execution_count": null,
   "id": "85be84a6",
   "metadata": {},
   "outputs": [],
   "source": [
    "li"
   ]
  },
  {
   "cell_type": "code",
   "execution_count": null,
   "id": "b8549f44",
   "metadata": {},
   "outputs": [],
   "source": [
    "li[1:]"
   ]
  },
  {
   "cell_type": "code",
   "execution_count": null,
   "id": "a3475a9d",
   "metadata": {},
   "outputs": [],
   "source": [
    "li[:]"
   ]
  },
  {
   "cell_type": "code",
   "execution_count": null,
   "id": "d7bba1d7",
   "metadata": {},
   "outputs": [],
   "source": [
    "li[1:10]"
   ]
  },
  {
   "cell_type": "markdown",
   "id": "04ea5902",
   "metadata": {},
   "source": [
    "### Insert and Append Elements"
   ]
  },
  {
   "cell_type": "code",
   "execution_count": null,
   "id": "d81983d1",
   "metadata": {},
   "outputs": [],
   "source": [
    "li.append(\"Ankush\")"
   ]
  },
  {
   "cell_type": "code",
   "execution_count": null,
   "id": "6ab7c537",
   "metadata": {},
   "outputs": [],
   "source": [
    "li"
   ]
  },
  {
   "cell_type": "code",
   "execution_count": null,
   "id": "ed3751e3",
   "metadata": {},
   "outputs": [],
   "source": [
    "li.insert(1,)"
   ]
  },
  {
   "cell_type": "code",
   "execution_count": null,
   "id": "4791ef8a",
   "metadata": {},
   "outputs": [],
   "source": [
    "li.insert(1, 7)"
   ]
  },
  {
   "cell_type": "code",
   "execution_count": null,
   "id": "960b1843",
   "metadata": {},
   "outputs": [],
   "source": [
    "li"
   ]
  },
  {
   "cell_type": "code",
   "execution_count": null,
   "id": "c4e374f3",
   "metadata": {},
   "outputs": [],
   "source": [
    "li.insert(6, 10)"
   ]
  },
  {
   "cell_type": "code",
   "execution_count": null,
   "id": "3170dfbf",
   "metadata": {},
   "outputs": [],
   "source": [
    "li"
   ]
  },
  {
   "cell_type": "code",
   "execution_count": null,
   "id": "641fc795",
   "metadata": {},
   "outputs": [],
   "source": [
    "li.insert(9, \"Karan\")"
   ]
  },
  {
   "cell_type": "code",
   "execution_count": null,
   "id": "f311397b",
   "metadata": {},
   "outputs": [],
   "source": [
    "li"
   ]
  },
  {
   "cell_type": "code",
   "execution_count": null,
   "id": "b01ba476",
   "metadata": {},
   "outputs": [],
   "source": [
    "li.append([9, 10, 11])"
   ]
  },
  {
   "cell_type": "code",
   "execution_count": null,
   "id": "7a031718",
   "metadata": {},
   "outputs": [],
   "source": [
    "li"
   ]
  },
  {
   "cell_type": "code",
   "execution_count": null,
   "id": "2c312ef0",
   "metadata": {},
   "outputs": [],
   "source": [
    "li.extend([9, 10, 11])"
   ]
  },
  {
   "cell_type": "code",
   "execution_count": null,
   "id": "37730af5",
   "metadata": {},
   "outputs": [],
   "source": [
    "li"
   ]
  },
  {
   "cell_type": "markdown",
   "id": "6abbf02c",
   "metadata": {},
   "source": [
    "### Removing Elements"
   ]
  },
  {
   "cell_type": "code",
   "execution_count": 60,
   "id": "d1bba791",
   "metadata": {},
   "outputs": [
    {
     "name": "stdout",
     "output_type": "stream",
     "text": [
      "140424230786112\n",
      "140424230786112\n"
     ]
    }
   ],
   "source": [
    "li = [1, 2, 3, 4, 5]\n",
    "print(id(li))\n",
    "li.remove(2)\n",
    "print(id(li))"
   ]
  },
  {
   "cell_type": "code",
   "execution_count": 51,
   "id": "87bdb15f",
   "metadata": {},
   "outputs": [],
   "source": [
    "li.append(5)"
   ]
  },
  {
   "cell_type": "code",
   "execution_count": 52,
   "id": "0488d37a",
   "metadata": {},
   "outputs": [],
   "source": [
    "li.remove(5)"
   ]
  },
  {
   "cell_type": "code",
   "execution_count": 53,
   "id": "23364867",
   "metadata": {},
   "outputs": [],
   "source": [
    "li.remove(6)"
   ]
  },
  {
   "cell_type": "code",
   "execution_count": 54,
   "id": "c1e2efae",
   "metadata": {},
   "outputs": [
    {
     "data": {
      "text/plain": [
       "5"
      ]
     },
     "execution_count": 54,
     "metadata": {},
     "output_type": "execute_result"
    }
   ],
   "source": [
    "li.pop()"
   ]
  },
  {
   "cell_type": "code",
   "execution_count": null,
   "id": "c28e846b",
   "metadata": {},
   "outputs": [],
   "source": [
    "li.pop()"
   ]
  },
  {
   "cell_type": "code",
   "execution_count": null,
   "id": "799680ce",
   "metadata": {},
   "outputs": [],
   "source": [
    "li.pop(2)"
   ]
  },
  {
   "cell_type": "code",
   "execution_count": null,
   "id": "e051d210",
   "metadata": {},
   "outputs": [],
   "source": [
    "li.pop(18)"
   ]
  },
  {
   "cell_type": "code",
   "execution_count": null,
   "id": "760ab1ad",
   "metadata": {},
   "outputs": [],
   "source": [
    "li.pop(4)"
   ]
  },
  {
   "cell_type": "code",
   "execution_count": null,
   "id": "b2608b78",
   "metadata": {},
   "outputs": [],
   "source": [
    "len(li)"
   ]
  },
  {
   "cell_type": "markdown",
   "id": "774658e3",
   "metadata": {},
   "source": [
    "### Looping"
   ]
  },
  {
   "cell_type": "code",
   "execution_count": null,
   "id": "83796e65",
   "metadata": {},
   "outputs": [],
   "source": [
    "li = [1, 2, \"Parikh\", 9, 10, 11, \"Ankush\"]"
   ]
  },
  {
   "cell_type": "code",
   "execution_count": null,
   "id": "09a755c9",
   "metadata": {},
   "outputs": [],
   "source": [
    "li"
   ]
  },
  {
   "cell_type": "code",
   "execution_count": null,
   "id": "85dd8bd1",
   "metadata": {},
   "outputs": [],
   "source": [
    "for i in range(len(li)):\n",
    "    print(li[i])"
   ]
  },
  {
   "cell_type": "code",
   "execution_count": null,
   "id": "9506b7f7",
   "metadata": {},
   "outputs": [],
   "source": [
    "for i in range(2, len(li)):\n",
    "    print(li[i])"
   ]
  },
  {
   "cell_type": "code",
   "execution_count": null,
   "id": "477486da",
   "metadata": {},
   "outputs": [],
   "source": [
    "for ele in li:\n",
    "    print(ele)"
   ]
  },
  {
   "cell_type": "code",
   "execution_count": null,
   "id": "d05b488a",
   "metadata": {},
   "outputs": [],
   "source": [
    "for ele in li[2:]:\n",
    "    print(ele)"
   ]
  },
  {
   "cell_type": "code",
   "execution_count": null,
   "id": "32e5d028",
   "metadata": {},
   "outputs": [],
   "source": [
    "for ele in li[2:4]:\n",
    "    print(ele)"
   ]
  },
  {
   "cell_type": "markdown",
   "id": "cf632344",
   "metadata": {},
   "source": [
    "### Negative Indexing"
   ]
  },
  {
   "cell_type": "code",
   "execution_count": null,
   "id": "b4c9dadb",
   "metadata": {},
   "outputs": [],
   "source": [
    "li = [1, 2, 3, 4, 5]"
   ]
  },
  {
   "cell_type": "code",
   "execution_count": null,
   "id": "edc6a2e7",
   "metadata": {},
   "outputs": [],
   "source": [
    "li[-1]"
   ]
  },
  {
   "cell_type": "code",
   "execution_count": null,
   "id": "d3bde10c",
   "metadata": {},
   "outputs": [],
   "source": [
    "li[-2]"
   ]
  },
  {
   "cell_type": "code",
   "execution_count": null,
   "id": "f052a57a",
   "metadata": {},
   "outputs": [],
   "source": [
    "# IndexError: list index out of range\n",
    "# li[-8]"
   ]
  },
  {
   "cell_type": "markdown",
   "id": "d2c78a92",
   "metadata": {},
   "source": [
    "### Sequencing"
   ]
  },
  {
   "cell_type": "code",
   "execution_count": null,
   "id": "842faeea",
   "metadata": {},
   "outputs": [],
   "source": [
    "li[1:5:1]"
   ]
  },
  {
   "cell_type": "code",
   "execution_count": null,
   "id": "95a0ca5c",
   "metadata": {},
   "outputs": [],
   "source": [
    "li[1:3:1]"
   ]
  },
  {
   "cell_type": "code",
   "execution_count": null,
   "id": "106d0646",
   "metadata": {},
   "outputs": [],
   "source": [
    "li[1:5:2]"
   ]
  },
  {
   "cell_type": "code",
   "execution_count": null,
   "id": "1187ddf9",
   "metadata": {},
   "outputs": [],
   "source": [
    "li[1:]"
   ]
  },
  {
   "cell_type": "code",
   "execution_count": null,
   "id": "77f4d12c",
   "metadata": {},
   "outputs": [],
   "source": [
    "li[1::2]"
   ]
  },
  {
   "cell_type": "code",
   "execution_count": null,
   "id": "6267edfe",
   "metadata": {},
   "outputs": [],
   "source": [
    "li[:3]"
   ]
  },
  {
   "cell_type": "code",
   "execution_count": null,
   "id": "f417d033",
   "metadata": {},
   "outputs": [],
   "source": [
    "li[-1:]"
   ]
  },
  {
   "cell_type": "code",
   "execution_count": null,
   "id": "e21fe023",
   "metadata": {},
   "outputs": [],
   "source": [
    "li[-3:-1]"
   ]
  },
  {
   "cell_type": "markdown",
   "id": "0c95a250",
   "metadata": {},
   "source": [
    "### Line Seperated Inputs"
   ]
  },
  {
   "cell_type": "code",
   "execution_count": null,
   "id": "5e1b00a3",
   "metadata": {},
   "outputs": [],
   "source": [
    "n = int(input())"
   ]
  },
  {
   "cell_type": "code",
   "execution_count": null,
   "id": "ac7b654e",
   "metadata": {},
   "outputs": [],
   "source": [
    "li = []\n",
    "for i in range(n):\n",
    "    curr = int(input())\n",
    "    li.append(curr)"
   ]
  },
  {
   "cell_type": "code",
   "execution_count": null,
   "id": "f2a765ae",
   "metadata": {},
   "outputs": [],
   "source": [
    "li"
   ]
  },
  {
   "cell_type": "markdown",
   "id": "14e6effd",
   "metadata": {},
   "source": [
    "### Space Seperated Inputs"
   ]
  },
  {
   "cell_type": "code",
   "execution_count": null,
   "id": "2487308f",
   "metadata": {},
   "outputs": [],
   "source": [
    "str = input()"
   ]
  },
  {
   "cell_type": "code",
   "execution_count": null,
   "id": "5cc7b043",
   "metadata": {},
   "outputs": [],
   "source": [
    "str"
   ]
  },
  {
   "cell_type": "code",
   "execution_count": null,
   "id": "0e0863ba",
   "metadata": {},
   "outputs": [],
   "source": [
    "li = []"
   ]
  },
  {
   "cell_type": "code",
   "execution_count": null,
   "id": "a4dbb612",
   "metadata": {},
   "outputs": [],
   "source": [
    "str_split = str.split(' ')"
   ]
  },
  {
   "cell_type": "code",
   "execution_count": null,
   "id": "10a938a3",
   "metadata": {},
   "outputs": [],
   "source": [
    "str_split"
   ]
  },
  {
   "cell_type": "code",
   "execution_count": null,
   "id": "f387a095",
   "metadata": {},
   "outputs": [],
   "source": [
    "li = []"
   ]
  },
  {
   "cell_type": "code",
   "execution_count": null,
   "id": "697ecda3",
   "metadata": {},
   "outputs": [],
   "source": [
    "for ele in str_split:\n",
    "    li.append(int(ele))"
   ]
  },
  {
   "cell_type": "code",
   "execution_count": null,
   "id": "661f717e",
   "metadata": {},
   "outputs": [],
   "source": [
    "li"
   ]
  },
  {
   "cell_type": "code",
   "execution_count": null,
   "id": "768f4cf6",
   "metadata": {},
   "outputs": [],
   "source": [
    "li = [int(x) for x in input().split()]"
   ]
  },
  {
   "cell_type": "code",
   "execution_count": null,
   "id": "fa5f8358",
   "metadata": {},
   "outputs": [],
   "source": [
    "li"
   ]
  },
  {
   "cell_type": "code",
   "execution_count": null,
   "id": "980f13b8",
   "metadata": {},
   "outputs": [],
   "source": [
    "n = int(input())\n",
    "li = [int(x) for x in input().split()]\n",
    "for ele in li:\n",
    "    print(ele)"
   ]
  },
  {
   "cell_type": "markdown",
   "id": "2799e6c4",
   "metadata": {},
   "source": [
    "### Linear Search"
   ]
  },
  {
   "cell_type": "code",
   "execution_count": 17,
   "id": "29367557",
   "metadata": {},
   "outputs": [
    {
     "name": "stdout",
     "output_type": "stream",
     "text": [
      "2 4 7 9 10 13\n"
     ]
    },
    {
     "data": {
      "text/plain": [
       "[2, 4, 7, 9, 10, 13]"
      ]
     },
     "execution_count": 17,
     "metadata": {},
     "output_type": "execute_result"
    }
   ],
   "source": [
    "li = [int(x) for x in input().split()]\n",
    "li"
   ]
  },
  {
   "cell_type": "code",
   "execution_count": 18,
   "id": "d44198ad",
   "metadata": {},
   "outputs": [
    {
     "name": "stdout",
     "output_type": "stream",
     "text": [
      "7\n"
     ]
    }
   ],
   "source": [
    "ele = int(input())"
   ]
  },
  {
   "cell_type": "code",
   "execution_count": 19,
   "id": "18db42fa",
   "metadata": {},
   "outputs": [
    {
     "name": "stdout",
     "output_type": "stream",
     "text": [
      "2\n"
     ]
    }
   ],
   "source": [
    "isFound = False\n",
    "for i in range(len(li)):\n",
    "    if li[i] == ele:\n",
    "        print(i)\n",
    "        isFound = True\n",
    "        break\n",
    "if isFound is False:\n",
    "    print(-1)"
   ]
  },
  {
   "cell_type": "code",
   "execution_count": 23,
   "id": "caf255a1",
   "metadata": {},
   "outputs": [],
   "source": [
    "def linear_search(li, ele):\n",
    "    for i in range(len(li)):\n",
    "        if li[i] == ele:\n",
    "            return i\n",
    "    return -1"
   ]
  },
  {
   "cell_type": "code",
   "execution_count": 25,
   "id": "d3338e1c",
   "metadata": {},
   "outputs": [
    {
     "name": "stdout",
     "output_type": "stream",
     "text": [
      "3\n"
     ]
    }
   ],
   "source": [
    "li = [1, 2, 3, 6, 5]\n",
    "index = linear_search(li, 6)\n",
    "print(index)"
   ]
  },
  {
   "cell_type": "markdown",
   "id": "2ed10247",
   "metadata": {},
   "source": [
    "### Immutable"
   ]
  },
  {
   "cell_type": "code",
   "execution_count": 26,
   "id": "6304866b",
   "metadata": {},
   "outputs": [
    {
     "name": "stdout",
     "output_type": "stream",
     "text": [
      "3\n"
     ]
    }
   ],
   "source": [
    "x = 3\n",
    "a = 3\n",
    "print(x)"
   ]
  },
  {
   "cell_type": "code",
   "execution_count": 27,
   "id": "a065396f",
   "metadata": {},
   "outputs": [
    {
     "data": {
      "text/plain": [
       "140425297979760"
      ]
     },
     "execution_count": 27,
     "metadata": {},
     "output_type": "execute_result"
    }
   ],
   "source": [
    "id(x)"
   ]
  },
  {
   "cell_type": "code",
   "execution_count": 28,
   "id": "63f20012",
   "metadata": {},
   "outputs": [
    {
     "data": {
      "text/plain": [
       "140425297979760"
      ]
     },
     "execution_count": 28,
     "metadata": {},
     "output_type": "execute_result"
    }
   ],
   "source": [
    "id(a)"
   ]
  },
  {
   "cell_type": "code",
   "execution_count": 29,
   "id": "5f46ca4f",
   "metadata": {},
   "outputs": [
    {
     "data": {
      "text/plain": [
       "140425297979792"
      ]
     },
     "execution_count": 29,
     "metadata": {},
     "output_type": "execute_result"
    }
   ],
   "source": [
    "a = 4\n",
    "id(a)"
   ]
  },
  {
   "cell_type": "code",
   "execution_count": 30,
   "id": "a2e05be2",
   "metadata": {},
   "outputs": [
    {
     "data": {
      "text/plain": [
       "3"
      ]
     },
     "execution_count": 30,
     "metadata": {},
     "output_type": "execute_result"
    }
   ],
   "source": [
    "x"
   ]
  },
  {
   "cell_type": "code",
   "execution_count": 31,
   "id": "2a87498c",
   "metadata": {},
   "outputs": [
    {
     "data": {
      "text/plain": [
       "4"
      ]
     },
     "execution_count": 31,
     "metadata": {},
     "output_type": "execute_result"
    }
   ],
   "source": [
    "a"
   ]
  },
  {
   "cell_type": "markdown",
   "id": "c8be99ed",
   "metadata": {},
   "source": [
    "### Mutable"
   ]
  },
  {
   "cell_type": "code",
   "execution_count": 32,
   "id": "233535eb",
   "metadata": {},
   "outputs": [],
   "source": [
    "li = [1, 2, 3, 4]\n",
    "li2 = li\n",
    "li2 = [3, 3, 4]\n",
    "li2[1] = 4"
   ]
  },
  {
   "cell_type": "code",
   "execution_count": 33,
   "id": "6e123497",
   "metadata": {},
   "outputs": [
    {
     "name": "stdout",
     "output_type": "stream",
     "text": [
      "[1, 2, 3, 4]\n",
      "[3, 4, 4]\n"
     ]
    }
   ],
   "source": [
    "print(li)\n",
    "print(li2)"
   ]
  },
  {
   "cell_type": "markdown",
   "id": "ef4b6675",
   "metadata": {},
   "source": [
    "### Passing Variables through Functions"
   ]
  },
  {
   "cell_type": "code",
   "execution_count": 35,
   "id": "f39b2727",
   "metadata": {},
   "outputs": [
    {
     "name": "stdout",
     "output_type": "stream",
     "text": [
      "4\n"
     ]
    }
   ],
   "source": [
    "def increment(a):\n",
    "    a += 2\n",
    "    return a\n",
    "\n",
    "a = 2\n",
    "a = increment(a)\n",
    "print(a)"
   ]
  },
  {
   "cell_type": "markdown",
   "id": "fadd5060",
   "metadata": {},
   "source": [
    "### Passing through Functions"
   ]
  },
  {
   "cell_type": "code",
   "execution_count": 38,
   "id": "8bf8efc6",
   "metadata": {},
   "outputs": [
    {
     "name": "stdout",
     "output_type": "stream",
     "text": [
      "[1, 2, 3, 4]\n"
     ]
    }
   ],
   "source": [
    "def increment(li):\n",
    "    # li[0] += 2 # affected\n",
    "    # li = [3, 3, 4] # not affected\n",
    "    return li\n",
    "    \n",
    "    \n",
    "li = [1, 2, 3, 4]\n",
    "increment(li)\n",
    "print(li)"
   ]
  },
  {
   "cell_type": "markdown",
   "id": "0d3392a4",
   "metadata": {},
   "source": [
    "### Reverse"
   ]
  },
  {
   "cell_type": "code",
   "execution_count": 41,
   "id": "fdcd8239",
   "metadata": {},
   "outputs": [
    {
     "name": "stdout",
     "output_type": "stream",
     "text": [
      "[6, 5, 4, 3, 2, 1]\n"
     ]
    }
   ],
   "source": [
    "def reverse_l(li):\n",
    "    length = len(li)\n",
    "    for i in range(length//2):\n",
    "        li[i], li[length - i - 1] = li[length - i - 1], li[i]\n",
    "\n",
    "li = [1, 2, 3, 4, 5, 6]\n",
    "reverse_l(li)\n",
    "print(li)"
   ]
  },
  {
   "cell_type": "code",
   "execution_count": 42,
   "id": "c7b91dd7",
   "metadata": {},
   "outputs": [
    {
     "name": "stdout",
     "output_type": "stream",
     "text": [
      "[6, 5, 4, 3, 2, 1]\n"
     ]
    }
   ],
   "source": [
    "def reverse_l(li):\n",
    "    length = len(li)\n",
    "    for i in range(length//2):\n",
    "        li[i], li[-i - 1] = li[-i - 1], li[i]\n",
    "\n",
    "li = [1, 2, 3, 4, 5, 6]\n",
    "reverse_l(li)\n",
    "print(li)"
   ]
  },
  {
   "cell_type": "code",
   "execution_count": 43,
   "id": "a5cc7e13",
   "metadata": {},
   "outputs": [
    {
     "data": {
      "text/plain": [
       "[3, 4]"
      ]
     },
     "execution_count": 43,
     "metadata": {},
     "output_type": "execute_result"
    }
   ],
   "source": [
    "li[3:1:-1]"
   ]
  },
  {
   "cell_type": "code",
   "execution_count": 44,
   "id": "567867da",
   "metadata": {},
   "outputs": [
    {
     "data": {
      "text/plain": [
       "[1, 2, 3, 4]"
      ]
     },
     "execution_count": 44,
     "metadata": {},
     "output_type": "execute_result"
    }
   ],
   "source": [
    "li[:1:-1]"
   ]
  },
  {
   "cell_type": "code",
   "execution_count": 45,
   "id": "5d095c15",
   "metadata": {},
   "outputs": [
    {
     "data": {
      "text/plain": [
       "[3, 4, 5, 6]"
      ]
     },
     "execution_count": 45,
     "metadata": {},
     "output_type": "execute_result"
    }
   ],
   "source": [
    "li[3::-1]"
   ]
  },
  {
   "cell_type": "code",
   "execution_count": 46,
   "id": "de618326",
   "metadata": {},
   "outputs": [
    {
     "data": {
      "text/plain": [
       "[1, 2, 3, 4, 5, 6]"
      ]
     },
     "execution_count": 46,
     "metadata": {},
     "output_type": "execute_result"
    }
   ],
   "source": [
    "li[::-1]"
   ]
  },
  {
   "cell_type": "code",
   "execution_count": 49,
   "id": "280e9c0d",
   "metadata": {},
   "outputs": [
    {
     "data": {
      "text/plain": [
       "[6, 5, 4, 3, 2, 1]"
      ]
     },
     "execution_count": 49,
     "metadata": {},
     "output_type": "execute_result"
    }
   ],
   "source": [
    "li = [1, 2, 3, 4, 5, 6]\n",
    "li = li[::-1]\n",
    "li"
   ]
  }
 ],
 "metadata": {
  "kernelspec": {
   "display_name": "Python 3 (ipykernel)",
   "language": "python",
   "name": "python3"
  },
  "language_info": {
   "codemirror_mode": {
    "name": "ipython",
    "version": 3
   },
   "file_extension": ".py",
   "mimetype": "text/x-python",
   "name": "python",
   "nbconvert_exporter": "python",
   "pygments_lexer": "ipython3",
   "version": "3.9.7"
  }
 },
 "nbformat": 4,
 "nbformat_minor": 5
}
