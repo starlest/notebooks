{
 "cells": [
  {
   "cell_type": "code",
   "execution_count": 1,
   "id": "70769a83",
   "metadata": {},
   "outputs": [],
   "source": [
    "def fact(n):\n",
    "    n_fact = 1\n",
    "    for i in range(1, n + 1):\n",
    "        n_fact *= i\n",
    "    return n_fact"
   ]
  },
  {
   "cell_type": "code",
   "execution_count": 10,
   "id": "0214567d",
   "metadata": {},
   "outputs": [
    {
     "name": "stdout",
     "output_type": "stream",
     "text": [
      "4\n",
      "2\n",
      "6\n"
     ]
    }
   ],
   "source": [
    "n = int(input())\n",
    "r = int(input())\n",
    "n_fact = fact(n)\n",
    "r_fact = fact(r)\n",
    "n_r_fact = fact(n - r)\n",
    "ans = n_fact // (r_fact * n_r_fact)\n",
    "print(ans)"
   ]
  },
  {
   "cell_type": "code",
   "execution_count": 11,
   "id": "ce068b05",
   "metadata": {},
   "outputs": [
    {
     "name": "stdout",
     "output_type": "stream",
     "text": [
      "4\n",
      "2\n",
      "6\n"
     ]
    }
   ],
   "source": [
    "n = int(input())\n",
    "r = int(input())\n",
    "\n",
    "n_fact = 1\n",
    "for i in range(1, n + 1):\n",
    "    n_fact *= i\n",
    "    \n",
    "r_fact = 1\n",
    "for i in range(1, r + 1):\n",
    "    r_fact *= i\n",
    "    \n",
    "n_r_fact = 1\n",
    "for i in range(1, n - r + 1):\n",
    "    n_r_fact *= n_r_fact * i\n",
    "    \n",
    "ans = n_fact // (r_fact * n_r_fact)\n",
    "print(ans)"
   ]
  },
  {
   "cell_type": "code",
   "execution_count": 12,
   "id": "4b8e7990",
   "metadata": {},
   "outputs": [],
   "source": [
    "def isPrime(n):\n",
    "    for d in range(2, n):\n",
    "        if (n % d == 0):\n",
    "            break\n",
    "        else:\n",
    "            return True\n",
    "        \n",
    "    return False"
   ]
  },
  {
   "cell_type": "code",
   "execution_count": 13,
   "id": "6ef01407",
   "metadata": {},
   "outputs": [
    {
     "data": {
      "text/plain": [
       "True"
      ]
     },
     "execution_count": 13,
     "metadata": {},
     "output_type": "execute_result"
    }
   ],
   "source": [
    "isPrime(17)"
   ]
  },
  {
   "cell_type": "code",
   "execution_count": 14,
   "id": "7a8c16b1",
   "metadata": {},
   "outputs": [],
   "source": [
    "def primeFrom2ToN(n):\n",
    "    for k in range(2, n + 1):\n",
    "        # check if k is prime and in case it is prime we print k\n",
    "        is_k_prime = isPrime(k)\n",
    "        if is_k_prime:\n",
    "            print(k)"
   ]
  },
  {
   "cell_type": "code",
   "execution_count": 16,
   "id": "0f3cf356",
   "metadata": {},
   "outputs": [
    {
     "name": "stdout",
     "output_type": "stream",
     "text": [
      "3\n",
      "5\n",
      "7\n",
      "9\n",
      "11\n",
      "13\n",
      "15\n",
      "17\n",
      "19\n"
     ]
    }
   ],
   "source": [
    "primeFrom2ToN(20)"
   ]
  },
  {
   "cell_type": "code",
   "execution_count": 17,
   "id": "4cffbb15",
   "metadata": {},
   "outputs": [],
   "source": [
    "def ncr(n, r):\n",
    "    n_fact = fact(n)\n",
    "    r_fact = fact(r)\n",
    "    n_r_fact = fact(n - r)\n",
    "    ans = n_fact // (r_fact * n_r_fact)\n",
    "    return ans"
   ]
  },
  {
   "cell_type": "code",
   "execution_count": 19,
   "id": "f8d44c01",
   "metadata": {},
   "outputs": [
    {
     "data": {
      "text/plain": [
       "10"
      ]
     },
     "execution_count": 19,
     "metadata": {},
     "output_type": "execute_result"
    }
   ],
   "source": [
    "ncr(5, 2)"
   ]
  },
  {
   "cell_type": "markdown",
   "id": "5647bb7c",
   "metadata": {},
   "source": [
    "### Scope of Variables"
   ]
  },
  {
   "cell_type": "code",
   "execution_count": 23,
   "id": "5ee392ca",
   "metadata": {},
   "outputs": [
    {
     "name": "stdout",
     "output_type": "stream",
     "text": [
      "10\n"
     ]
    }
   ],
   "source": [
    "a1 = 10 # global variable\n",
    "def f1():\n",
    "    b1 = 12 # local variable\n",
    "    \n",
    "print(a1)\n",
    "f1()\n",
    "# can;t print a local variable outside the function print(b1)"
   ]
  },
  {
   "cell_type": "code",
   "execution_count": 27,
   "id": "68119382",
   "metadata": {},
   "outputs": [
    {
     "name": "stdout",
     "output_type": "stream",
     "text": [
      "10\n",
      "12\n",
      "10\n"
     ]
    }
   ],
   "source": [
    "a2 = 10 #global variable\n",
    "\n",
    "def f2():\n",
    "    b2 = 12 # local variable\n",
    "    print(b2)\n",
    "    print(a2)\n",
    "    \n",
    "print(a2)\n",
    "f2()"
   ]
  },
  {
   "cell_type": "code",
   "execution_count": 31,
   "id": "322a7746",
   "metadata": {},
   "outputs": [
    {
     "name": "stdout",
     "output_type": "stream",
     "text": [
      "10\n",
      "12\n",
      "10\n"
     ]
    }
   ],
   "source": [
    "# you can access any global variable defined before the function call\n",
    "\n",
    "def f3():\n",
    "    b3 = 12 # local variable\n",
    "    print(b3)\n",
    "    print(a3)\n",
    "    # print(c3)\n",
    "\n",
    "a3 = 10 #global variable\n",
    "print(a3)\n",
    "f3()\n",
    "c3 = 20"
   ]
  },
  {
   "cell_type": "code",
   "execution_count": 33,
   "id": "f72fbdde",
   "metadata": {},
   "outputs": [
    {
     "name": "stdout",
     "output_type": "stream",
     "text": [
      "13\n",
      "12\n",
      "140162097146512\n",
      "13\n",
      "140162097146544\n"
     ]
    }
   ],
   "source": [
    "a4 = 13\n",
    "def f4():\n",
    "    a4 = 12\n",
    "    print(a4)\n",
    "    print(id(a4))\n",
    "\n",
    "print(a4)\n",
    "f4()\n",
    "print(a4)\n",
    "print(id(a4))"
   ]
  },
  {
   "cell_type": "code",
   "execution_count": 34,
   "id": "252460a6",
   "metadata": {},
   "outputs": [
    {
     "name": "stdout",
     "output_type": "stream",
     "text": [
      "13\n",
      "12\n",
      "140162097146512\n",
      "12\n",
      "140162097146512\n"
     ]
    }
   ],
   "source": [
    "a4 = 13\n",
    "def f4():\n",
    "    global a4\n",
    "    a4 = 12\n",
    "    print(a4)\n",
    "    print(id(a4))\n",
    "\n",
    "print(a4)\n",
    "f4()\n",
    "print(a4)\n",
    "print(id(a4))"
   ]
  },
  {
   "cell_type": "code",
   "execution_count": 35,
   "id": "222d59ed",
   "metadata": {},
   "outputs": [
    {
     "name": "stdout",
     "output_type": "stream",
     "text": [
      "10\n"
     ]
    }
   ],
   "source": [
    "def f():\n",
    "    b = 10\n",
    "    return b\n",
    "    \n",
    "x = f()\n",
    "print(x)"
   ]
  },
  {
   "cell_type": "markdown",
   "id": "aa4b28f6",
   "metadata": {},
   "source": [
    "### Default Arguments"
   ]
  },
  {
   "cell_type": "code",
   "execution_count": 37,
   "id": "345aa3ca",
   "metadata": {},
   "outputs": [
    {
     "ename": "TypeError",
     "evalue": "f() takes 1 positional argument but 2 were given",
     "output_type": "error",
     "traceback": [
      "\u001b[0;31m---------------------------------------------------------------------------\u001b[0m",
      "\u001b[0;31mTypeError\u001b[0m                                 Traceback (most recent call last)",
      "\u001b[0;32m/var/folders/rn/mqc13bp52rx6f9sk1ktlfk8m0000gn/T/ipykernel_13650/1875907806.py\u001b[0m in \u001b[0;36m<module>\u001b[0;34m\u001b[0m\n\u001b[1;32m      2\u001b[0m     \u001b[0mprint\u001b[0m\u001b[0;34m(\u001b[0m\u001b[0mn\u001b[0m\u001b[0;34m)\u001b[0m\u001b[0;34m\u001b[0m\u001b[0;34m\u001b[0m\u001b[0m\n\u001b[1;32m      3\u001b[0m \u001b[0;34m\u001b[0m\u001b[0m\n\u001b[0;32m----> 4\u001b[0;31m \u001b[0mf\u001b[0m\u001b[0;34m(\u001b[0m\u001b[0;36m2\u001b[0m\u001b[0;34m,\u001b[0m \u001b[0;36m3\u001b[0m\u001b[0;34m)\u001b[0m\u001b[0;34m\u001b[0m\u001b[0;34m\u001b[0m\u001b[0m\n\u001b[0m",
      "\u001b[0;31mTypeError\u001b[0m: f() takes 1 positional argument but 2 were given"
     ]
    }
   ],
   "source": [
    "def f(n):\n",
    "    print(n)\n",
    "\n",
    "f(2, 3)"
   ]
  },
  {
   "cell_type": "code",
   "execution_count": 41,
   "id": "45d27cd1",
   "metadata": {},
   "outputs": [
    {
     "name": "stdout",
     "output_type": "stream",
     "text": [
      "4\n",
      "9\n",
      "0\n",
      "5\n"
     ]
    }
   ],
   "source": [
    "def sum(a, b, c = 0):\n",
    "    print(c)\n",
    "    return a + b + c\n",
    "\n",
    "print(sum(2, 3, 4))\n",
    "print(sum(2, 3))"
   ]
  },
  {
   "cell_type": "code",
   "execution_count": 44,
   "id": "5e76d9c0",
   "metadata": {},
   "outputs": [
    {
     "ename": "SyntaxError",
     "evalue": "non-default argument follows default argument (3703427306.py, line 2)",
     "output_type": "error",
     "traceback": [
      "\u001b[0;36m  File \u001b[0;32m\"/var/folders/rn/mqc13bp52rx6f9sk1ktlfk8m0000gn/T/ipykernel_13650/3703427306.py\"\u001b[0;36m, line \u001b[0;32m2\u001b[0m\n\u001b[0;31m    def f(a = 0, b, c):\u001b[0m\n\u001b[0m                    ^\u001b[0m\n\u001b[0;31mSyntaxError\u001b[0m\u001b[0;31m:\u001b[0m non-default argument follows default argument\n"
     ]
    }
   ],
   "source": [
    "# all non default arguments should be before arguments with default values\n",
    "def f(a = 0, b, c):\n",
    "    return a + b + c\n",
    "\n",
    "f(1, 2)"
   ]
  },
  {
   "cell_type": "code",
   "execution_count": 53,
   "id": "a6471ec5",
   "metadata": {},
   "outputs": [
    {
     "name": "stdout",
     "output_type": "stream",
     "text": [
      "14\n",
      "7\n",
      "10\n",
      "18\n"
     ]
    }
   ],
   "source": [
    "def f1(a, b, c = 2, d = 0):\n",
    "    return a + b + c + d\n",
    "\n",
    "print(f1(2, 3, 4, 5))\n",
    "print(f1(2, 3))\n",
    "print(f1(2, 3, 5))\n",
    "\n",
    "print(f1(b = 2, a = 10, c = 3, d=3))"
   ]
  },
  {
   "cell_type": "code",
   "execution_count": 48,
   "id": "358f4b16",
   "metadata": {},
   "outputs": [
    {
     "ename": "SyntaxError",
     "evalue": "non-default argument follows default argument (3550689613.py, line 1)",
     "output_type": "error",
     "traceback": [
      "\u001b[0;36m  File \u001b[0;32m\"/var/folders/rn/mqc13bp52rx6f9sk1ktlfk8m0000gn/T/ipykernel_13650/3550689613.py\"\u001b[0;36m, line \u001b[0;32m1\u001b[0m\n\u001b[0;31m    def f(a = 0, d = 10, b, c):\u001b[0m\n\u001b[0m                            ^\u001b[0m\n\u001b[0;31mSyntaxError\u001b[0m\u001b[0;31m:\u001b[0m non-default argument follows default argument\n"
     ]
    }
   ],
   "source": [
    "def f(a = 0, d = 10, b, c):\n",
    "    return a + b + c\n",
    "\n",
    "f(1, 2, 4)"
   ]
  },
  {
   "cell_type": "code",
   "execution_count": null,
   "id": "852decdd",
   "metadata": {},
   "outputs": [],
   "source": []
  }
 ],
 "metadata": {
  "kernelspec": {
   "display_name": "Python 3 (ipykernel)",
   "language": "python",
   "name": "python3"
  },
  "language_info": {
   "codemirror_mode": {
    "name": "ipython",
    "version": 3
   },
   "file_extension": ".py",
   "mimetype": "text/x-python",
   "name": "python",
   "nbconvert_exporter": "python",
   "pygments_lexer": "ipython3",
   "version": "3.9.7"
  }
 },
 "nbformat": 4,
 "nbformat_minor": 5
}
