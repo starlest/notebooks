{
 "cells": [
  {
   "cell_type": "markdown",
   "id": "1ae7b952",
   "metadata": {},
   "source": [
    "### Binary Search"
   ]
  },
  {
   "cell_type": "code",
   "execution_count": 11,
   "id": "8f0bb800",
   "metadata": {},
   "outputs": [],
   "source": [
    "def binary_search(array, element, debug=False):\n",
    "    lower_bound = 0\n",
    "    upper_bound = len(array) - 1\n",
    "    \n",
    "    while lower_bound <= upper_bound:\n",
    "        middle = (lower_bound + upper_bound) // 2\n",
    "        if debug:\n",
    "            print(\"Lower Bound \", lower_bound)\n",
    "            print(\"Upper Bound \", upper_bound)\n",
    "            print(\"Middle \", middle)\n",
    "        if element == array[middle]:\n",
    "            return \"Your value is found at middle at index \", middle\n",
    "        elif element < array[middle]:\n",
    "            # no change in lower bound\n",
    "            upper_bound = middle - 1\n",
    "        else:\n",
    "            # upper bound remains the same\n",
    "            lower_bound = middle + 1\n",
    "            \n",
    "    return \"Your element isn't available in the given array\""
   ]
  },
  {
   "cell_type": "code",
   "execution_count": 15,
   "id": "6028caf8",
   "metadata": {},
   "outputs": [
    {
     "name": "stdout",
     "output_type": "stream",
     "text": [
      "Lower Bound  0\n",
      "Upper Bound  5\n",
      "Middle  2\n",
      "Lower Bound  0\n",
      "Upper Bound  1\n",
      "Middle  0\n"
     ]
    },
    {
     "data": {
      "text/plain": [
       "('Your value is found at middle at index ', 0)"
      ]
     },
     "execution_count": 15,
     "metadata": {},
     "output_type": "execute_result"
    }
   ],
   "source": [
    "array = [12, 34, 45, 56, 67, 89]\n",
    "x1 = 12\n",
    "x2 = 57\n",
    "binary_search(array, x1, debug=True)"
   ]
  },
  {
   "cell_type": "code",
   "execution_count": 13,
   "id": "6fa8bfb7",
   "metadata": {},
   "outputs": [
    {
     "name": "stdout",
     "output_type": "stream",
     "text": [
      "Lower Bound  0\n",
      "Upper Bound  5\n",
      "Middle  2\n",
      "Lower Bound  3\n",
      "Upper Bound  5\n",
      "Middle  4\n",
      "Lower Bound  3\n",
      "Upper Bound  3\n",
      "Middle  3\n"
     ]
    },
    {
     "data": {
      "text/plain": [
       "\"Your element isn't available in the given array\""
      ]
     },
     "execution_count": 13,
     "metadata": {},
     "output_type": "execute_result"
    }
   ],
   "source": [
    "binary_search(array, x2, debug=True)"
   ]
  },
  {
   "cell_type": "markdown",
   "id": "3e1a1f7c",
   "metadata": {},
   "source": [
    "### Selection Sort"
   ]
  },
  {
   "cell_type": "code",
   "execution_count": 26,
   "id": "6f957606",
   "metadata": {},
   "outputs": [],
   "source": [
    "def selection_sort(A):\n",
    "    for i in range(len(A)):\n",
    "        min_index = i\n",
    "        for j in range(i + 1, len(A)):\n",
    "            if A[j] < A[min_index]:\n",
    "                min_index = j\n",
    "        A[i], A[min_index] = A[min_index], A[i]\n",
    "    \n",
    "    return A"
   ]
  },
  {
   "cell_type": "code",
   "execution_count": 27,
   "id": "7779b627",
   "metadata": {},
   "outputs": [
    {
     "data": {
      "text/plain": [
       "[3, 4, 5, 9, 13]"
      ]
     },
     "execution_count": 27,
     "metadata": {},
     "output_type": "execute_result"
    }
   ],
   "source": [
    "selection_sort([13, 4, 9, 5, 3])"
   ]
  },
  {
   "cell_type": "markdown",
   "id": "97b58d40",
   "metadata": {},
   "source": [
    "### Bubble Sort"
   ]
  },
  {
   "cell_type": "code",
   "execution_count": 14,
   "id": "7197038b",
   "metadata": {},
   "outputs": [],
   "source": [
    "def bubble_sort(a):\n",
    "    for i in range(len(a)):\n",
    "        swapped = False\n",
    "        print(\"This is pass -\", i+1)\n",
    "        for j in range(len(a)-i-1):\n",
    "            if a[j] > a[j+1]:\n",
    "                print(\"The pair is \", a[j], \" and \", a[j+1])\n",
    "                a[j], a[j+1] = a[j+1], a[j]\n",
    "                swapped = True\n",
    "        if swapped == False:\n",
    "            break\n",
    "    return a"
   ]
  },
  {
   "cell_type": "code",
   "execution_count": 15,
   "id": "1e13e2d9",
   "metadata": {},
   "outputs": [
    {
     "name": "stdout",
     "output_type": "stream",
     "text": [
      "This is pass - 1\n",
      "The pair is  8  and  5\n",
      "The pair is  8  and  3\n",
      "The pair is  8  and  1\n",
      "This is pass - 2\n",
      "The pair is  5  and  3\n",
      "The pair is  5  and  1\n",
      "This is pass - 3\n",
      "The pair is  3  and  1\n",
      "This is pass - 4\n"
     ]
    },
    {
     "data": {
      "text/plain": [
       "[1, 3, 5, 8]"
      ]
     },
     "execution_count": 15,
     "metadata": {},
     "output_type": "execute_result"
    }
   ],
   "source": [
    "arr = [8, 5, 3, 1]\n",
    "bubble_sort(arr)"
   ]
  },
  {
   "cell_type": "markdown",
   "id": "8e57a0ea",
   "metadata": {},
   "source": [
    "### Insertion Sort"
   ]
  },
  {
   "cell_type": "code",
   "execution_count": 17,
   "id": "22ff0df6",
   "metadata": {},
   "outputs": [],
   "source": [
    "def insertion_sort(arr):\n",
    "    # Traverse through 1 to len(arr)\n",
    "    for i in range(1, len(arr)):\n",
    " \n",
    "        key = arr[i]\n",
    " \n",
    "        # Move elements of arr[0..i-1], that are\n",
    "        # greater than key, to one position ahead\n",
    "        # of their current position\n",
    "        j = i-1\n",
    "        while j >= 0 and key < arr[j] :\n",
    "                arr[j + 1] = arr[j]\n",
    "                j -= 1\n",
    "        arr[j + 1] = key"
   ]
  },
  {
   "cell_type": "code",
   "execution_count": 18,
   "id": "a7fd4516",
   "metadata": {},
   "outputs": [
    {
     "name": "stdout",
     "output_type": "stream",
     "text": [
      "[1, 5, 6, 7, 8, 9]\n"
     ]
    }
   ],
   "source": [
    "arr = [9, 8, 5, 6, 7, 1]\n",
    "insertion_sort(arr)\n",
    "print(arr)"
   ]
  },
  {
   "cell_type": "markdown",
   "id": "f1ede7c9",
   "metadata": {},
   "source": [
    "### Merge Two Sorted Arrays"
   ]
  },
  {
   "cell_type": "code",
   "execution_count": 21,
   "id": "cc0b7772",
   "metadata": {},
   "outputs": [],
   "source": [
    "def merge_two_arrays(a1, a2, debug=False):\n",
    "    i, j = 0, 0\n",
    "    len1, len2 = len(a1), len(a2)\n",
    "    new_array = []\n",
    "    \n",
    "    while i < len1 and j < len2:\n",
    "        if a1[i] < a2[j]:\n",
    "            new_array.append(a1[i])\n",
    "            i += 1\n",
    "        else:\n",
    "            new_array.append(a2[j])\n",
    "            j += 1\n",
    "    \n",
    "    while i < len1:\n",
    "        new_array.append(a1[i])\n",
    "        i += 1\n",
    "    \n",
    "    while j < len2:\n",
    "        new_array.append(a2[j])\n",
    "        j += 1\n",
    "        \n",
    "    return new_array"
   ]
  },
  {
   "cell_type": "code",
   "execution_count": 22,
   "id": "46772266",
   "metadata": {},
   "outputs": [
    {
     "data": {
      "text/plain": [
       "[1, 3, 4, 4, 7, 9, 11, 11, 13]"
      ]
     },
     "execution_count": 22,
     "metadata": {},
     "output_type": "execute_result"
    }
   ],
   "source": [
    "a1 = [1,3,4,7,11]\n",
    "a2 = [4,9,11,13]\n",
    "merge_two_arrays(a1, a2)"
   ]
  },
  {
   "cell_type": "code",
   "execution_count": null,
   "id": "01da3850",
   "metadata": {},
   "outputs": [],
   "source": []
  }
 ],
 "metadata": {
  "kernelspec": {
   "display_name": "Python 3 (ipykernel)",
   "language": "python",
   "name": "python3"
  },
  "language_info": {
   "codemirror_mode": {
    "name": "ipython",
    "version": 3
   },
   "file_extension": ".py",
   "mimetype": "text/x-python",
   "name": "python",
   "nbconvert_exporter": "python",
   "pygments_lexer": "ipython3",
   "version": "3.9.7"
  }
 },
 "nbformat": 4,
 "nbformat_minor": 5
}
